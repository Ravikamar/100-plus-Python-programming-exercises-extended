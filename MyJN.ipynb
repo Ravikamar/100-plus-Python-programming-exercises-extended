{
  "nbformat": 4,
  "nbformat_minor": 0,
  "metadata": {
    "colab": {
      "name": "MyJN.ipynb",
      "provenance": [],
      "authorship_tag": "ABX9TyM/idymuJ2vfP08fv8DwdNS",
      "include_colab_link": true
    },
    "kernelspec": {
      "name": "python3",
      "display_name": "Python 3"
    },
    "language_info": {
      "name": "python"
    }
  },
  "cells": [
    {
      "cell_type": "markdown",
      "metadata": {
        "id": "view-in-github",
        "colab_type": "text"
      },
      "source": [
        "<a href=\"https://colab.research.google.com/github/Ravikamar/100-plus-Python-programming-exercises-extended/blob/master/MyJN.ipynb\" target=\"_parent\"><img src=\"https://colab.research.google.com/assets/colab-badge.svg\" alt=\"Open In Colab\"/></a>"
      ]
    },
    {
      "cell_type": "code",
      "execution_count": null,
      "metadata": {
        "id": "DvpXEoxxZRqG"
      },
      "outputs": [],
      "source": [
        "import os\n",
        "try:\n",
        "  from pyspark.sql import SparkSession \n",
        "except:\n",
        "  os.system(\"pip install pyspark\")\n",
        "from pyspark.sql import SparkSession\n",
        "\n",
        "spark = SparkSession.builder.getOrCreate()\n",
        "import pyspark.sql.functions as F"
      ]
    },
    {
      "cell_type": "code",
      "source": [
        "emptyRdd = spark.sparkContext.emptyRDD"
      ],
      "metadata": {
        "id": "0JVJrVeJZjpd"
      },
      "execution_count": null,
      "outputs": []
    },
    {
      "cell_type": "code",
      "source": [
        "df = spark.createDataFrame([(\"ravi\",\"gaur\")],schema=[\"fn\",\"ln\"])"
      ],
      "metadata": {
        "id": "1YfbTMrba04H"
      },
      "execution_count": 58,
      "outputs": []
    },
    {
      "cell_type": "code",
      "source": [
        "df.show()"
      ],
      "metadata": {
        "colab": {
          "base_uri": "https://localhost:8080/"
        },
        "id": "5gxeewbobt9x",
        "outputId": "57739783-149f-4df0-8492-6d35efa6377a"
      },
      "execution_count": 59,
      "outputs": [
        {
          "output_type": "stream",
          "name": "stdout",
          "text": [
            "+----+----+\n",
            "|  fn|  ln|\n",
            "+----+----+\n",
            "|ravi|gaur|\n",
            "+----+----+\n",
            "\n"
          ]
        }
      ]
    },
    {
      "cell_type": "code",
      "source": [
        "df2 = df = df.union(spark.createDataFrame([(\"ada\",\"sada\")],schema=[\"fn\",\"ln\"]))"
      ],
      "metadata": {
        "id": "k1C_uPQJb9C0"
      },
      "execution_count": 60,
      "outputs": []
    },
    {
      "cell_type": "code",
      "source": [
        "df2.show()"
      ],
      "metadata": {
        "colab": {
          "base_uri": "https://localhost:8080/"
        },
        "id": "2_vWPnmvc47j",
        "outputId": "25bcceab-f33a-4ed1-c013-202388baebb1"
      },
      "execution_count": 61,
      "outputs": [
        {
          "output_type": "stream",
          "name": "stdout",
          "text": [
            "+----+----+\n",
            "|  fn|  ln|\n",
            "+----+----+\n",
            "|ravi|gaur|\n",
            "| ada|sada|\n",
            "+----+----+\n",
            "\n"
          ]
        }
      ]
    },
    {
      "cell_type": "code",
      "source": [
        "df.withColumn(\"ln\",F.when(df.ln=='gaur','kavi').otherwise(df.ln)).show()"
      ],
      "metadata": {
        "colab": {
          "base_uri": "https://localhost:8080/"
        },
        "id": "waU69PEcc67c",
        "outputId": "1d4ddfaa-2aa1-487c-9fc9-5ed08e74fa54"
      },
      "execution_count": 62,
      "outputs": [
        {
          "output_type": "stream",
          "name": "stdout",
          "text": [
            "+----+----+\n",
            "|  fn|  ln|\n",
            "+----+----+\n",
            "|ravi|kavi|\n",
            "| ada|sada|\n",
            "+----+----+\n",
            "\n"
          ]
        }
      ]
    },
    {
      "cell_type": "code",
      "source": [
        "df.createOrReplaceTempView(\"tab\")"
      ],
      "metadata": {
        "id": "Hfsr_ctodeAx"
      },
      "execution_count": 64,
      "outputs": []
    },
    {
      "cell_type": "code",
      "source": [
        "spark.sql(\"select fn,case when ln='gaur' then 'javi' else ln end as updated from tab\").show()"
      ],
      "metadata": {
        "colab": {
          "base_uri": "https://localhost:8080/"
        },
        "id": "JYlu-3HcezaV",
        "outputId": "7f80df6f-e62b-4fba-a7a1-b7644f97e2fa"
      },
      "execution_count": 65,
      "outputs": [
        {
          "output_type": "stream",
          "name": "stdout",
          "text": [
            "+----+-------+\n",
            "|  fn|updated|\n",
            "+----+-------+\n",
            "|ravi|   javi|\n",
            "| ada|   sada|\n",
            "+----+-------+\n",
            "\n"
          ]
        }
      ]
    },
    {
      "cell_type": "code",
      "source": [
        "df.withColumn(\"fn\",F.when(df.fn==\"rohit\",\"kupta\").otherwise(df.fn)).show()"
      ],
      "metadata": {
        "colab": {
          "base_uri": "https://localhost:8080/"
        },
        "id": "-TMPER6Re8tr",
        "outputId": "1434bfce-1c8c-4b4b-a6c3-c57efa2d33a9"
      },
      "execution_count": 66,
      "outputs": [
        {
          "output_type": "stream",
          "name": "stdout",
          "text": [
            "+----+----+\n",
            "|  fn|  ln|\n",
            "+----+----+\n",
            "|ravi|gaur|\n",
            "| ada|sada|\n",
            "+----+----+\n",
            "\n"
          ]
        }
      ]
    },
    {
      "cell_type": "code",
      "source": [
        "df.show()"
      ],
      "metadata": {
        "id": "cqiHGfP9g0d1",
        "colab": {
          "base_uri": "https://localhost:8080/"
        },
        "outputId": "17071dfd-e345-454b-8940-12862489a557"
      },
      "execution_count": 67,
      "outputs": [
        {
          "output_type": "stream",
          "name": "stdout",
          "text": [
            "+----+----+\n",
            "|  fn|  ln|\n",
            "+----+----+\n",
            "|ravi|gaur|\n",
            "| ada|sada|\n",
            "+----+----+\n",
            "\n"
          ]
        }
      ]
    },
    {
      "cell_type": "code",
      "source": [
        "df.exceptAll(df.select(\"*\").where(df.fn==\"rohit\")).show()"
      ],
      "metadata": {
        "colab": {
          "base_uri": "https://localhost:8080/"
        },
        "id": "FVfCvQHKjwU2",
        "outputId": "5a6753bb-5d60-4336-d453-11ea3204e4e8"
      },
      "execution_count": 68,
      "outputs": [
        {
          "output_type": "stream",
          "name": "stdout",
          "text": [
            "+----+----+\n",
            "|  fn|  ln|\n",
            "+----+----+\n",
            "|ravi|gaur|\n",
            "| ada|sada|\n",
            "+----+----+\n",
            "\n"
          ]
        }
      ]
    },
    {
      "cell_type": "code",
      "source": [
        "df2.show()"
      ],
      "metadata": {
        "colab": {
          "base_uri": "https://localhost:8080/"
        },
        "id": "a-xrN8ZYlqaA",
        "outputId": "337734c5-7918-4e78-e98c-b561b7769b4b"
      },
      "execution_count": 70,
      "outputs": [
        {
          "output_type": "stream",
          "name": "stdout",
          "text": [
            "+----+----+\n",
            "|  fn|  ln|\n",
            "+----+----+\n",
            "|ravi|gaur|\n",
            "| ada|sada|\n",
            "+----+----+\n",
            "\n"
          ]
        }
      ]
    },
    {
      "cell_type": "code",
      "source": [
        ""
      ],
      "metadata": {
        "id": "Xl_cjCHIm0Iy"
      },
      "execution_count": null,
      "outputs": []
    }
  ]
}